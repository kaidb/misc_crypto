{
 "cells": [
  {
   "cell_type": "code",
   "execution_count": 213,
   "metadata": {},
   "outputs": [],
   "source": [
    "from os import urandom\n",
    "import hashlib"
   ]
  },
  {
   "cell_type": "code",
   "execution_count": 194,
   "metadata": {},
   "outputs": [],
   "source": [
    "def xor_bytes(a,b):\n",
    "    return bytes([i ^ j for i, j in zip(a, b)])"
   ]
  },
  {
   "cell_type": "code",
   "execution_count": 216,
   "metadata": {},
   "outputs": [],
   "source": [
    "class rc4:\n",
    "    def __init__(self, key, drop_N=False):\n",
    "        self.__key = key\n",
    "        self.key_scheduel()\n",
    "        self.drop_N = drop_N\n",
    "        # Generator for byte stream \n",
    "        self.stream_generator = self._generate_stream()\n",
    "        \n",
    "    \n",
    "    def key_scheduel(self):\n",
    "        S = [i for i in range(256)]\n",
    "        j = 0\n",
    "        for i in range(0,256):\n",
    "            # (bytes_object) & 0xff  is the same thing as x mod 256\n",
    "            j = (j + S[i] + self.__key[i % len(self.__key)]) & 0xff\n",
    "            S[i], S[j] = S[j], S[i]\n",
    "        self.__S = S\n",
    "    \n",
    "    def  _generate_stream(self):\n",
    "        # Discard bytes \n",
    "        drop_n = self.drop_N\n",
    "        S = self.__S.copy()\n",
    "        i= j = 0\n",
    "        while True:\n",
    "            i = (i + 1) & 0xff\n",
    "            j = (j + S[i]) & 0xff\n",
    "            S[i], S[j] = S[j], S[i]\n",
    "            K = S[(S[i] + S[j] ) & 0xff]\n",
    "            if drop_n:\n",
    "                # drop the firt N bytes\n",
    "                drop_n -=1\n",
    "                continue\n",
    "            yield K\n",
    "            \n",
    "    def crypt(self, data):\n",
    "        # if We haven't alre\n",
    "        assert(isinstance(data, (bytes, bytearray)))\n",
    "        # Calls the generator. \n",
    "        # Note this leaks the size of the message. \n",
    "        return xor_bytes(data, self.stream_generator)\n",
    "        \n",
    "        \n",
    "\n"
   ]
  },
  {
   "cell_type": "code",
   "execution_count": 206,
   "metadata": {},
   "outputs": [
    {
     "data": {
      "text/plain": [
       "True"
      ]
     },
     "execution_count": 206,
     "metadata": {},
     "output_type": "execute_result"
    }
   ],
   "source": [
    "def test_rc4():\n",
    "    key, plaintext, ciphertext = ('Key', 'Plaintext', bytes.fromhex(\"BBF316E8D940AF0AD3\"))\n",
    "    rc4_0 = rc4(key.encode())\n",
    "    return rc4_0.crypt(plaintext.encode()) == ciphertext\n",
    "        \n",
    "\n",
    "test_rc4()"
   ]
  },
  {
   "cell_type": "code",
   "execution_count": 207,
   "metadata": {},
   "outputs": [],
   "source": [
    "\n",
    "class HMAC:\n",
    "    # Note, hash_f needs to be from hashlib\n",
    "    # If you use Keccak,the inner + outer hash are not needed. \n",
    "    def __init__(self, key, hash_f):\n",
    "        self.block_size = hash_f().block_size\n",
    "        self.digest_size = hash_f().digest_size\n",
    "        self.hash_f = hash_f\n",
    "        if len(key) > self.block_size:\n",
    "            # if the key is larger than then the block size, hash it\n",
    "            self.__key = self.hash_f.update(key).digest()   \n",
    "            assert len(self.__key) == self.digest_size\n",
    "        else:\n",
    "            # pad with zeos\n",
    "            pad = bytes( self.block_size - len(key) )\n",
    "            self.__key = key + pad\n",
    "            assert len(self.__key) == self.block_size\n",
    "        self.__inner_pad  =  xor_bytes(self.__key , (bytes([0x36]) * self.block_size))\n",
    "        self.__outter_pad = xor_bytes(self.__key , (bytes([0x5c]) * self.block_size))\n",
    "        \n",
    "        \n",
    "    def hash_bytes(self, data):\n",
    "        m = self.hash_f()\n",
    "        m.update(data)\n",
    "        return m.digest()\n",
    "    \n",
    "    def gen_hmac(self, data):\n",
    "        return  self.hash_bytes( self.__outter_pad + self.hash_bytes(self.__inner_pad + data))\n",
    "    \n",
    "    def verify_mac(self, mac, data):\n",
    "        return self.gen_hmac(data) == mac"
   ]
  },
  {
   "cell_type": "code",
   "execution_count": 208,
   "metadata": {},
   "outputs": [],
   "source": [
    "def test_hmac():\n",
    "    hmac_sha256 = HMAC(\"key\".encode(), hashlib.sha256 ).gen_hmac(\"The quick brown fox jumps over the lazy dog\".encode()) \n",
    "    return hmac_sha256 == bytes.fromhex(\"f7bc83f430538424b13298e6aa6fb143ef4d59a14946175997479dbc2d1a3cd8\")"
   ]
  },
  {
   "cell_type": "code",
   "execution_count": 209,
   "metadata": {},
   "outputs": [
    {
     "data": {
      "text/plain": [
       "True"
      ]
     },
     "execution_count": 209,
     "metadata": {},
     "output_type": "execute_result"
    }
   ],
   "source": [
    "test_hmac()"
   ]
  },
  {
   "cell_type": "code",
   "execution_count": 229,
   "metadata": {},
   "outputs": [],
   "source": [
    "def example():\n",
    "    # securely generate a secret key for the MAC as well as the cipher\n",
    "    secret_cipher_key = urandom(16)\n",
    "    secret_hmac_key = urandom(16)\n",
    "    # Encrypt then Mac\n",
    "    message = \"Attack at dawn!\".encode()\n",
    "    cipher_0 = rc4(secret_cipher_key)\n",
    "    ct = cipher_0.crypt(message)\n",
    "    hmac_0 = HMAC( secret_hmac_key, hashlib.sha3_256)\n",
    "    # Encrypt then mac!\n",
    "    mac = hmac_0.gen_hmac(ct)\n",
    "    # See if it verifies\n",
    "    verified = HMAC( secret_hmac_key, hashlib.sha3_256).verify_mac(mac, ct)\n",
    "    if verified:\n",
    "        print(\"[+] Verified \")\n",
    "    \n",
    "    cipher_1 = rc4(secret_cipher_key)\n",
    "    pt = cipher_1.crypt(ct)\n",
    "    print(\"[+] Plaintedt:\", pt.decode())\n",
    "    \n",
    "    \n",
    "    \n",
    "    "
   ]
  },
  {
   "cell_type": "code",
   "execution_count": 230,
   "metadata": {},
   "outputs": [
    {
     "name": "stdout",
     "output_type": "stream",
     "text": [
      "[+] Verified \n",
      "[+] Plaintedt: Attack at dawn!\n"
     ]
    }
   ],
   "source": [
    "example()"
   ]
  },
  {
   "cell_type": "code",
   "execution_count": null,
   "metadata": {},
   "outputs": [],
   "source": []
  }
 ],
 "metadata": {
  "kernelspec": {
   "display_name": "Python 3",
   "language": "python",
   "name": "python3"
  },
  "language_info": {
   "codemirror_mode": {
    "name": "ipython",
    "version": 3
   },
   "file_extension": ".py",
   "mimetype": "text/x-python",
   "name": "python",
   "nbconvert_exporter": "python",
   "pygments_lexer": "ipython3",
   "version": "3.6.9"
  }
 },
 "nbformat": 4,
 "nbformat_minor": 2
}
